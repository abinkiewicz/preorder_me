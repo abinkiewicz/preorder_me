{
 "cells": [
  {
   "cell_type": "markdown",
   "id": "ed66f2c0",
   "metadata": {},
   "source": [
    "### 1. Data from the picture EDA"
   ]
  },
  {
   "cell_type": "markdown",
   "id": "c8306150",
   "metadata": {},
   "source": [
    "### 2. Reports data EDA"
   ]
  },
  {
   "cell_type": "markdown",
   "id": "3fd57f1d",
   "metadata": {},
   "source": []
  }
 ],
 "metadata": {
  "language_info": {
   "name": "python"
  }
 },
 "nbformat": 4,
 "nbformat_minor": 5
}
