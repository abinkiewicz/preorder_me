{
 "cells": [
  {
   "cell_type": "markdown",
   "id": "10b352be",
   "metadata": {},
   "source": [
    "## Retrieving data from producer's catalogue\n",
    "\n",
    "First phase of the project is to **extract the data about products from the actual collection from current catalog (.pdf)**. Due to the high variety of products and their characteristics, it was decided to initially focus on one kind of products - **football socks**.\n",
    "For the first version of the project **I will use OpenAI API**, although, along with the development, there is an idea to implement YOLO machine learning model for this purpose.\n",
    "\n",
    "Page with football socks as screenshot (.png) from the catalog:\n",
    "<p align=\"center\">\n",
    "  <img src=\"milano_socks.png\" width=\"700\" height=\"590\">\n",
    "</p>\n",
    "\n",
    "The structure of the exctracted data will be a .json with following elements:\n",
    "```json\n",
    "{\n",
    "  \"type_of_clothing\": \"...\",\n",
    "  \"product_catalog_number\": \"...\",\n",
    "  \"color\": \"...\",\n",
    "  \"price\": \"...\"\n",
    "}\n",
    "```\n",
    "\n",
    "#### Activities\n",
    "- uploading a fragment of the catalog - photo of the page with socks in .png format,\n",
    "- using Chat GPT to get results in table form **(change to class and instructor)**\n",
    "- verification - EDA (describe whether the model made a mistake, etc.)\n"
   ]
  },
  {
   "cell_type": "markdown",
   "id": "9c152566",
   "metadata": {},
   "source": [
    "#### Required imports:"
   ]
  },
  {
   "cell_type": "code",
   "execution_count": 13,
   "id": "549f5cce",
   "metadata": {},
   "outputs": [],
   "source": [
    "import json\n",
    "from pathlib import Path\n",
    "import base64\n",
    "from getpass import getpass\n",
    "from openai import OpenAI\n",
    "import pandas as pd\n",
    "import streamlit as st\n",
    "from dotenv import dotenv_values, load_dotenv\n",
    "import re\n",
    "from itables import show"
   ]
  },
  {
   "cell_type": "markdown",
   "id": "63ba165d",
   "metadata": {},
   "source": [
    "#### Getting OpenAI key from environmental values:"
   ]
  },
  {
   "cell_type": "code",
   "execution_count": 2,
   "id": "e8c8a3c5",
   "metadata": {},
   "outputs": [],
   "source": [
    "env = dotenv_values(\".env\")\n",
    "load_dotenv()\n",
    "\n",
    "openai_client = OpenAI(api_key=env[\"OPENAI_API_KEY\"])"
   ]
  },
  {
   "cell_type": "markdown",
   "id": "d2a84210",
   "metadata": {},
   "source": [
    "#### Image encoding:"
   ]
  },
  {
   "cell_type": "code",
   "execution_count": 3,
   "id": "b7886b03",
   "metadata": {},
   "outputs": [],
   "source": [
    "image_path = \"milano_socks.png\"\n",
    "\n",
    "def prepare_image_for_open_ai(image_path):\n",
    "    with open(image_path, \"rb\") as f:\n",
    "        image_data = base64.b64encode(f.read()).decode('utf-8')\n",
    "\n",
    "    return f\"data:image/png;base64,{image_data}\""
   ]
  },
  {
   "cell_type": "markdown",
   "id": "a30d0862",
   "metadata": {},
   "source": [
    "#### GTP request:"
   ]
  },
  {
   "cell_type": "code",
   "execution_count": 9,
   "id": "56f4cf1a",
   "metadata": {},
   "outputs": [],
   "source": [
    "response = openai_client.chat.completions.create(\n",
    "    # model=\"gpt-4o\",\n",
    "    model=\"gpt-4o-mini\",\n",
    "    temperature=0,\n",
    "    messages=[\n",
    "        {\n",
    "            \"role\": \"user\",\n",
    "            \"content\": [\n",
    "                {\n",
    "                    \"type\": \"text\",\n",
    "                    \"text\": \"\"\"\n",
    "Read the product information from the catalog photo. I need a table with information about these products: type of clothing (e.g., T-shirt, shorts, shoes, socks), \n",
    "color (from basic colors, e.g., rainbow colors, e.g., blue—it does not have to be sky blue, azure, etc.), product catalog number, price.\n",
    "Present the data in json format. Present the data itself, without additional comments. Data structure:\n",
    "{\n",
    "  \"type_of_clothing\": \"...\",\n",
    "  \"product_catalog_number\": \"...\",\n",
    "  \"color\": \"...\",\n",
    "  \"price\": \"...\"\n",
    "}\n",
    "\"\"\"\n",
    "                },\n",
    "                {\n",
    "                    \"type\": \"image_url\",\n",
    "                    \"image_url\": {\n",
    "                        \"url\": prepare_image_for_open_ai(image_path),\n",
    "                        \"detail\": \"high\"\n",
    "                    },\n",
    "                },\n",
    "            ],\n",
    "        }\n",
    "    ],\n",
    ")\n",
    "\n",
    "content = response.choices[0].message.content"
   ]
  },
  {
   "cell_type": "markdown",
   "id": "19ce7940",
   "metadata": {},
   "source": [
    "#### Cleaning the response:"
   ]
  },
  {
   "cell_type": "code",
   "execution_count": 8,
   "id": "5fa83c1c",
   "metadata": {},
   "outputs": [],
   "source": [
    "content = response.choices[0].message.content\n",
    "match = re.search(r\"\\[\\s*{.*?}\\s*\\]\", content, re.DOTALL)\n",
    "data = json.loads(match.group(0))\n"
   ]
  },
  {
   "cell_type": "markdown",
   "id": "0e584a98",
   "metadata": {},
   "source": [
    "#### Saving response to a dataframe:"
   ]
  },
  {
   "cell_type": "code",
   "execution_count": 14,
   "id": "8369e10b",
   "metadata": {},
   "outputs": [
    {
     "data": {
      "text/html": [
       "<!--| quarto-html-table-processing: none -->\n",
       "<table id=\"itables_924c81c0_30b0_477c_91c4_fba5df2d8a2b\"><tbody><tr>\n",
       "    <td style=\"vertical-align:middle; text-align:left\">\n",
       "    <a href=https://mwouts.github.io/itables/><svg class=\"main-svg\" xmlns=\"http://www.w3.org/2000/svg\" xmlns:xlink=\"http://www.w3.org/1999/xlink\"\n",
       "width=\"64\" viewBox=\"0 0 500 400\" style=\"font-family: 'Droid Sans', sans-serif;\">\n",
       "    <g style=\"fill:#d9d7fc\">\n",
       "        <path d=\"M100,400H500V357H100Z\" />\n",
       "        <path d=\"M100,300H400V257H100Z\" />\n",
       "        <path d=\"M0,200H400V157H0Z\" />\n",
       "        <path d=\"M100,100H500V57H100Z\" />\n",
       "        <path d=\"M100,350H500V307H100Z\" />\n",
       "        <path d=\"M100,250H400V207H100Z\" />\n",
       "        <path d=\"M0,150H400V107H0Z\" />\n",
       "        <path d=\"M100,50H500V7H100Z\" />\n",
       "    </g>\n",
       "    <g style=\"fill:#1a1366;stroke:#1a1366;\">\n",
       "   <rect x=\"100\" y=\"7\" width=\"400\" height=\"43\">\n",
       "    <animate\n",
       "      attributeName=\"width\"\n",
       "      values=\"0;400;0\"\n",
       "      dur=\"5s\"\n",
       "      repeatCount=\"indefinite\" />\n",
       "      <animate\n",
       "      attributeName=\"x\"\n",
       "      values=\"100;100;500\"\n",
       "      dur=\"5s\"\n",
       "      repeatCount=\"indefinite\" />\n",
       "  </rect>\n",
       "        <rect x=\"0\" y=\"107\" width=\"400\" height=\"43\">\n",
       "    <animate\n",
       "      attributeName=\"width\"\n",
       "      values=\"0;400;0\"\n",
       "      dur=\"3.5s\"\n",
       "      repeatCount=\"indefinite\" />\n",
       "    <animate\n",
       "      attributeName=\"x\"\n",
       "      values=\"0;0;400\"\n",
       "      dur=\"3.5s\"\n",
       "      repeatCount=\"indefinite\" />\n",
       "  </rect>\n",
       "        <rect x=\"100\" y=\"207\" width=\"300\" height=\"43\">\n",
       "    <animate\n",
       "      attributeName=\"width\"\n",
       "      values=\"0;300;0\"\n",
       "      dur=\"3s\"\n",
       "      repeatCount=\"indefinite\" />\n",
       "    <animate\n",
       "      attributeName=\"x\"\n",
       "      values=\"100;100;400\"\n",
       "      dur=\"3s\"\n",
       "      repeatCount=\"indefinite\" />\n",
       "  </rect>\n",
       "        <rect x=\"100\" y=\"307\" width=\"400\" height=\"43\">\n",
       "    <animate\n",
       "      attributeName=\"width\"\n",
       "      values=\"0;400;0\"\n",
       "      dur=\"4s\"\n",
       "      repeatCount=\"indefinite\" />\n",
       "      <animate\n",
       "      attributeName=\"x\"\n",
       "      values=\"100;100;500\"\n",
       "      dur=\"4s\"\n",
       "      repeatCount=\"indefinite\" />\n",
       "  </rect>\n",
       "        <g style=\"fill:transparent;stroke-width:8; stroke-linejoin:round\" rx=\"5\">\n",
       "            <g transform=\"translate(45 50) rotate(-45)\">\n",
       "                <circle r=\"33\" cx=\"0\" cy=\"0\" />\n",
       "                <rect x=\"-8\" y=\"32\" width=\"16\" height=\"30\" />\n",
       "            </g>\n",
       "\n",
       "            <g transform=\"translate(450 152)\">\n",
       "                <polyline points=\"-15,-20 -35,-20 -35,40 25,40 25,20\" />\n",
       "                <rect x=\"-15\" y=\"-40\" width=\"60\" height=\"60\" />\n",
       "            </g>\n",
       "\n",
       "            <g transform=\"translate(50 352)\">\n",
       "                <polygon points=\"-35,-5 0,-40 35,-5\" />\n",
       "                <polygon points=\"-35,10 0,45 35,10\" />\n",
       "            </g>\n",
       "\n",
       "            <g transform=\"translate(75 250)\">\n",
       "                <polyline points=\"-30,30 -60,0 -30,-30\" />\n",
       "                <polyline points=\"0,30 -30,0 0,-30\" />\n",
       "            </g>\n",
       "\n",
       "            <g transform=\"translate(425 250) rotate(180)\">\n",
       "                <polyline points=\"-30,30 -60,0 -30,-30\" />\n",
       "                <polyline points=\"0,30 -30,0 0,-30\" />\n",
       "            </g>\n",
       "        </g>\n",
       "    </g>\n",
       "</svg>\n",
       "</a>\n",
       "    Loading ITables v2.4.4 from the internet...\n",
       "    (need <a href=https://mwouts.github.io/itables/troubleshooting.html>help</a>?)</td>\n",
       "    </tr></tbody></table>\n",
       "<link href=\"https://www.unpkg.com/dt_for_itables@2.3.3/dt_bundle.css\" rel=\"stylesheet\">\n",
       "<script type=\"module\">\n",
       "    import { ITable, jQuery as $ } from 'https://www.unpkg.com/dt_for_itables@2.3.3/dt_bundle.js';\n",
       "\n",
       "    document.querySelectorAll(\"#itables_924c81c0_30b0_477c_91c4_fba5df2d8a2b:not(.dataTable)\").forEach(table => {\n",
       "        if (!(table instanceof HTMLTableElement))\n",
       "            return;\n",
       "\n",
       "        let dt_args = {\"layout\": {\"topStart\": \"pageLength\", \"topEnd\": \"search\", \"bottomStart\": \"info\", \"bottomEnd\": \"paging\"}, \"text_in_header_can_be_selected\": true, \"classes\": [\"display\", \"nowrap\"], \"style\": {\"table-layout\": \"auto\", \"width\": \"auto\", \"margin\": \"auto\", \"caption-side\": \"bottom\"}, \"order\": [], \"table_html\": \"<table><thead>\\n    <tr style=\\\"text-align: right;\\\">\\n      \\n      <th>type_of_clothing</th>\\n      <th>product_catalog_number</th>\\n      <th>color</th>\\n      <th>price</th>\\n    </tr>\\n  </thead></table>\", \"data_json\": \"[[\\\"socks\\\", \\\"HT6538\\\", \\\"black\\\", \\\"49.95 z\\\\u0142\\\"], [\\\"socks\\\", \\\"IB7814\\\", \\\"navy blue\\\", \\\"49.95 z\\\\u0142\\\"], [\\\"socks\\\", \\\"IB7817\\\", \\\"red\\\", \\\"49.95 z\\\\u0142\\\"], [\\\"socks\\\", \\\"IB7818\\\", \\\"royal blue\\\", \\\"49.95 z\\\\u0142\\\"], [\\\"socks\\\", \\\"IB7819\\\", \\\"green\\\", \\\"49.95 z\\\\u0142\\\"], [\\\"socks\\\", \\\"IB7820\\\", \\\"maroon\\\", \\\"49.95 z\\\\u0142\\\"], [\\\"socks\\\", \\\"IB7822\\\", \\\"light blue\\\", \\\"49.95 z\\\\u0142\\\"], [\\\"socks\\\", \\\"IB7823\\\", \\\"mint\\\", \\\"49.95 z\\\\u0142\\\"], [\\\"socks\\\", \\\"IB7821\\\", \\\"orange\\\", \\\"49.95 z\\\\u0142\\\"], [\\\"socks\\\", \\\"IB7815\\\", \\\"yellow\\\", \\\"49.95 z\\\\u0142\\\"], [\\\"socks\\\", \\\"IB7816\\\", \\\"black\\\", \\\"49.95 z\\\\u0142\\\"]]\"};\n",
       "        new ITable(table, dt_args);\n",
       "    });\n",
       "</script>\n"
      ],
      "text/plain": [
       "<IPython.core.display.HTML object>"
      ]
     },
     "metadata": {},
     "output_type": "display_data"
    }
   ],
   "source": [
    "df = pd.DataFrame(data)\n",
    "show(df)"
   ]
  },
  {
   "cell_type": "markdown",
   "id": "bb6c4d6e",
   "metadata": {},
   "source": [
    "#### Saving data to Excel (xlsx) file:"
   ]
  },
  {
   "cell_type": "code",
   "execution_count": 12,
   "id": "38893d60",
   "metadata": {},
   "outputs": [],
   "source": [
    "df.to_excel(\"socks_current_data.xlsx\", index=False)"
   ]
  },
  {
   "cell_type": "markdown",
   "id": "684c1fbb",
   "metadata": {},
   "source": []
  }
 ],
 "metadata": {
  "kernelspec": {
   "display_name": "preorder_me",
   "language": "python",
   "name": "python3"
  },
  "language_info": {
   "codemirror_mode": {
    "name": "ipython",
    "version": 3
   },
   "file_extension": ".py",
   "mimetype": "text/x-python",
   "name": "python",
   "nbconvert_exporter": "python",
   "pygments_lexer": "ipython3",
   "version": "3.11.13"
  }
 },
 "nbformat": 4,
 "nbformat_minor": 5
}
