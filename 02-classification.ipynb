{
 "cells": [
  {
   "cell_type": "markdown",
   "id": "10b352be",
   "metadata": {},
   "source": [
    "## Retrieving data from producer's catalogue\n",
    "\n",
    "First phase of the project is to **extract the data about products from the actual collection from current catalog (.pdf)**. Due to the high variety of products and their characteristics, it was decided to initially focus on one kind of products - **football socks**.\n",
    "For the first version of the project **I will use OpenAI API**, although, along with the development, there is an idea to implement YOLO machine learning model for this purpose.\n",
    "\n",
    "Page with football socks as screenshot (.png) from the catalog:\n",
    "<p align=\"center\">\n",
    "  <img src=\"milano_socks.png\" width=\"700\" height=\"590\">\n",
    "</p>\n",
    "\n",
    "The structure of the exctracted data will be a .json with following elements:\n",
    "```json\n",
    "{\n",
    "  \"type_of_clothing\": \"...\",\n",
    "  \"product_catalog_number\": \"...\",\n",
    "  \"color\": \"...\",\n",
    "  \"price\": \"...\"\n",
    "}\n",
    "```\n",
    "\n",
    "#### Activities\n",
    "- uploading a fragment of the catalog - photo of the page with socks in .png format,\n",
    "- using Chat GPT to get results in table form **(change to class and instructor)**\n",
    "- verification - EDA (describe whether the model made a mistake, etc.)\n"
   ]
  },
  {
   "cell_type": "markdown",
   "id": "9c152566",
   "metadata": {},
   "source": [
    "#### Required imports:"
   ]
  },
  {
   "cell_type": "code",
   "execution_count": 4,
   "id": "549f5cce",
   "metadata": {},
   "outputs": [],
   "source": [
    "import json\n",
    "from pathlib import Path\n",
    "import base64\n",
    "from getpass import getpass\n",
    "from openai import OpenAI\n",
    "import pandas as pd\n",
    "from dotenv import dotenv_values, load_dotenv\n",
    "import re\n",
    "from itables import show"
   ]
  },
  {
   "cell_type": "markdown",
   "id": "63ba165d",
   "metadata": {},
   "source": [
    "#### Getting OpenAI key from environmental values:"
   ]
  },
  {
   "cell_type": "code",
   "execution_count": 5,
   "id": "e8c8a3c5",
   "metadata": {},
   "outputs": [],
   "source": [
    "env = dotenv_values(\".env\")\n",
    "load_dotenv()\n",
    "\n",
    "openai_client = OpenAI(api_key=env[\"OPENAI_API_KEY\"])"
   ]
  },
  {
   "cell_type": "markdown",
   "id": "d2a84210",
   "metadata": {},
   "source": [
    "#### Image encoding:"
   ]
  },
  {
   "cell_type": "code",
   "execution_count": 6,
   "id": "b7886b03",
   "metadata": {},
   "outputs": [],
   "source": [
    "image_path = \"milano_socks.png\"\n",
    "\n",
    "def prepare_image_for_open_ai(image_path):\n",
    "    with open(image_path, \"rb\") as f:\n",
    "        image_data = base64.b64encode(f.read()).decode('utf-8')\n",
    "\n",
    "    return f\"data:image/png;base64,{image_data}\""
   ]
  },
  {
   "cell_type": "markdown",
   "id": "a30d0862",
   "metadata": {},
   "source": [
    "#### GTP request:"
   ]
  },
  {
   "cell_type": "code",
   "execution_count": 56,
   "id": "56f4cf1a",
   "metadata": {},
   "outputs": [],
   "source": [
    "response = openai_client.chat.completions.create(\n",
    "    # model=\"gpt-4o\",\n",
    "    model=\"gpt-4o-mini\",\n",
    "    temperature=0,\n",
    "    messages=[\n",
    "        {\n",
    "            \"role\": \"user\",\n",
    "            \"content\": [\n",
    "                {\n",
    "                    \"type\": \"text\",\n",
    "                    \"text\": \"\"\"\n",
    "Read product information from the catalog image. Extract data about socks displayed in the image. \n",
    "Return a list of all socks shown, mapping the dominant visible color to one of the standard base colors: white, black, green, red, navy blue, blue, yellow, burgundy, orange, azure, grey, mint. \n",
    "Do not include combinations like \"white black\" — only extract the most dominant color for each item (e.g., \"black\", \"white\", \"blue\").\n",
    "\n",
    "Present the data in JSON format. Include:\n",
    "{\n",
    "  \"type_of_clothing\": \"socks\",\n",
    "  \"product_catalog_number\": \"...\",\n",
    "  \"color\": \"...\",\n",
    "  \"price_in_PLN\": \"49.95\"\n",
    "}\n",
    "\n",
    "Only return the JSON list with all products. Do not include explanations or other text.\n",
    "\n",
    "\"\"\"\n",
    "                },\n",
    "                {\n",
    "                    \"type\": \"image_url\",\n",
    "                    \"image_url\": {\n",
    "                        \"url\": prepare_image_for_open_ai(image_path),\n",
    "                        \"detail\": \"high\"\n",
    "                    },\n",
    "                },\n",
    "            ],\n",
    "        }\n",
    "    ],\n",
    ")\n",
    "\n",
    "content = response.choices[0].message.content"
   ]
  },
  {
   "cell_type": "markdown",
   "id": "19ce7940",
   "metadata": {},
   "source": [
    "#### Cleaning the response:"
   ]
  },
  {
   "cell_type": "code",
   "execution_count": 57,
   "id": "5fa83c1c",
   "metadata": {},
   "outputs": [],
   "source": [
    "content = response.choices[0].message.content\n",
    "match = re.search(r\"\\[\\s*{.*?}\\s*\\]\", content, re.DOTALL)\n",
    "data = json.loads(match.group(0))\n"
   ]
  },
  {
   "cell_type": "markdown",
   "id": "0e584a98",
   "metadata": {},
   "source": [
    "#### Saving response to a dataframe:"
   ]
  },
  {
   "cell_type": "code",
   "execution_count": 62,
   "id": "8369e10b",
   "metadata": {},
   "outputs": [
    {
     "data": {
      "text/html": [
       "<div>\n",
       "<style scoped>\n",
       "    .dataframe tbody tr th:only-of-type {\n",
       "        vertical-align: middle;\n",
       "    }\n",
       "\n",
       "    .dataframe tbody tr th {\n",
       "        vertical-align: top;\n",
       "    }\n",
       "\n",
       "    .dataframe thead th {\n",
       "        text-align: right;\n",
       "    }\n",
       "</style>\n",
       "<table border=\"1\" class=\"dataframe\">\n",
       "  <thead>\n",
       "    <tr style=\"text-align: right;\">\n",
       "      <th></th>\n",
       "      <th>type_of_clothing</th>\n",
       "      <th>product_catalog_number</th>\n",
       "      <th>color</th>\n",
       "      <th>price_in_PLN</th>\n",
       "    </tr>\n",
       "  </thead>\n",
       "  <tbody>\n",
       "    <tr>\n",
       "      <th>0</th>\n",
       "      <td>socks</td>\n",
       "      <td>HT6538</td>\n",
       "      <td>black</td>\n",
       "      <td>49.95</td>\n",
       "    </tr>\n",
       "    <tr>\n",
       "      <th>1</th>\n",
       "      <td>socks</td>\n",
       "      <td>IB7814</td>\n",
       "      <td>navy blue</td>\n",
       "      <td>49.95</td>\n",
       "    </tr>\n",
       "    <tr>\n",
       "      <th>2</th>\n",
       "      <td>socks</td>\n",
       "      <td>IB7817</td>\n",
       "      <td>red</td>\n",
       "      <td>49.95</td>\n",
       "    </tr>\n",
       "    <tr>\n",
       "      <th>3</th>\n",
       "      <td>socks</td>\n",
       "      <td>IB7818</td>\n",
       "      <td>blue</td>\n",
       "      <td>49.95</td>\n",
       "    </tr>\n",
       "    <tr>\n",
       "      <th>4</th>\n",
       "      <td>socks</td>\n",
       "      <td>IB7819</td>\n",
       "      <td>green</td>\n",
       "      <td>49.95</td>\n",
       "    </tr>\n",
       "    <tr>\n",
       "      <th>5</th>\n",
       "      <td>socks</td>\n",
       "      <td>IB7820</td>\n",
       "      <td>burgundy</td>\n",
       "      <td>49.95</td>\n",
       "    </tr>\n",
       "    <tr>\n",
       "      <th>6</th>\n",
       "      <td>socks</td>\n",
       "      <td>IB7821</td>\n",
       "      <td>orange</td>\n",
       "      <td>49.95</td>\n",
       "    </tr>\n",
       "    <tr>\n",
       "      <th>7</th>\n",
       "      <td>socks</td>\n",
       "      <td>IB7822</td>\n",
       "      <td>blue</td>\n",
       "      <td>49.95</td>\n",
       "    </tr>\n",
       "    <tr>\n",
       "      <th>8</th>\n",
       "      <td>socks</td>\n",
       "      <td>IB7823</td>\n",
       "      <td>mint</td>\n",
       "      <td>49.95</td>\n",
       "    </tr>\n",
       "    <tr>\n",
       "      <th>9</th>\n",
       "      <td>socks</td>\n",
       "      <td>IB7815</td>\n",
       "      <td>yellow</td>\n",
       "      <td>49.95</td>\n",
       "    </tr>\n",
       "    <tr>\n",
       "      <th>10</th>\n",
       "      <td>socks</td>\n",
       "      <td>IB7816</td>\n",
       "      <td>grey</td>\n",
       "      <td>49.95</td>\n",
       "    </tr>\n",
       "    <tr>\n",
       "      <th>11</th>\n",
       "      <td>socks</td>\n",
       "      <td>IB7813</td>\n",
       "      <td>white</td>\n",
       "      <td>49.95</td>\n",
       "    </tr>\n",
       "  </tbody>\n",
       "</table>\n",
       "</div>"
      ],
      "text/plain": [
       "   type_of_clothing product_catalog_number      color price_in_PLN\n",
       "0             socks                 HT6538      black        49.95\n",
       "1             socks                 IB7814  navy blue        49.95\n",
       "2             socks                 IB7817        red        49.95\n",
       "3             socks                 IB7818       blue        49.95\n",
       "4             socks                 IB7819      green        49.95\n",
       "5             socks                 IB7820   burgundy        49.95\n",
       "6             socks                 IB7821     orange        49.95\n",
       "7             socks                 IB7822       blue        49.95\n",
       "8             socks                 IB7823       mint        49.95\n",
       "9             socks                 IB7815     yellow        49.95\n",
       "10            socks                 IB7816       grey        49.95\n",
       "11            socks                 IB7813      white        49.95"
      ]
     },
     "execution_count": 62,
     "metadata": {},
     "output_type": "execute_result"
    }
   ],
   "source": [
    "df = pd.DataFrame(data)\n",
    "df"
   ]
  },
  {
   "cell_type": "markdown",
   "id": "bb6c4d6e",
   "metadata": {},
   "source": [
    "#### Saving data to Excel (xlsx) file:"
   ]
  },
  {
   "cell_type": "code",
   "execution_count": 59,
   "id": "38893d60",
   "metadata": {},
   "outputs": [],
   "source": [
    "df.to_excel(\"socks_current_data.xlsx\", index=False)"
   ]
  },
  {
   "cell_type": "markdown",
   "id": "684c1fbb",
   "metadata": {},
   "source": [
    "## Data preprocessing/EDA:"
   ]
  },
  {
   "cell_type": "code",
   "execution_count": 27,
   "id": "0aa1adf9",
   "metadata": {},
   "outputs": [
    {
     "name": "stdout",
     "output_type": "stream",
     "text": [
      "<class 'pandas.core.frame.DataFrame'>\n",
      "RangeIndex: 12 entries, 0 to 11\n",
      "Data columns (total 4 columns):\n",
      " #   Column                  Non-Null Count  Dtype \n",
      "---  ------                  --------------  ----- \n",
      " 0   type_of_clothing        12 non-null     object\n",
      " 1   product_catalog_number  12 non-null     object\n",
      " 2   color                   12 non-null     object\n",
      " 3   price_in_PLN            12 non-null     object\n",
      "dtypes: object(4)\n",
      "memory usage: 516.0+ bytes\n"
     ]
    }
   ],
   "source": [
    "df.info()"
   ]
  },
  {
   "cell_type": "code",
   "execution_count": 60,
   "id": "3789606f",
   "metadata": {},
   "outputs": [
    {
     "data": {
      "text/plain": [
       "type_of_clothing           1\n",
       "product_catalog_number    12\n",
       "color                     11\n",
       "price_in_PLN               1\n",
       "dtype: int64"
      ]
     },
     "execution_count": 60,
     "metadata": {},
     "output_type": "execute_result"
    }
   ],
   "source": [
    "df.nunique()"
   ]
  },
  {
   "cell_type": "markdown",
   "id": "7b5aae0b",
   "metadata": {},
   "source": [
    "#### What we can read from above?\n",
    "\n",
    "| Status | Column name        | Description                                  | Needed actions |\n",
    "|--------|--------------------|----------------------------------------------|----------------|\n",
    "| ✅     | type_of_clothing   | 1 type - it is correct since all of them are socks-type; object - correct beause it is string value | None |\n",
    "| ✅     | product_catalog_number | 12 unique product codes from manufacturer as we have 12 products on this page; object - correct beause it is string value | None |\n",
    "| ❌     | color        | 11 unique colors - we need unique color for each so there should be 12; object - correct beause it is string value but we need to encode it| improve prompt, encode colors |\n",
    "| ❌     | price_in_PLN   | 1 unique price it is correct since all products have the same price; object - incorrect beause it should be marked as numerical value | change str do num |\n"
   ]
  },
  {
   "cell_type": "markdown",
   "id": "8f53f487",
   "metadata": {},
   "source": []
  }
 ],
 "metadata": {
  "kernelspec": {
   "display_name": "preorder_me",
   "language": "python",
   "name": "python3"
  },
  "language_info": {
   "codemirror_mode": {
    "name": "ipython",
    "version": 3
   },
   "file_extension": ".py",
   "mimetype": "text/x-python",
   "name": "python",
   "nbconvert_exporter": "python",
   "pygments_lexer": "ipython3",
   "version": "3.11.13"
  }
 },
 "nbformat": 4,
 "nbformat_minor": 5
}
