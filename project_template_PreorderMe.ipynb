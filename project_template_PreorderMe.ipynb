{
 "cells": [
  {
   "cell_type": "markdown",
   "metadata": {},
   "source": [
    "# PreorderMe - pomocnik do generowania listy zamówień"
   ]
  },
  {
   "cell_type": "markdown",
   "metadata": {},
   "source": [
    "<div style=\"text-align: center;\">\n",
    "  <img src=\"logo.png\" width=\"350\" height=\"500\">\n",
    "</div>"
   ]
  },
  {
   "cell_type": "markdown",
   "metadata": {},
   "source": [
    "## Specyfikacja / Specs\n",
    "\n",
    "* Aplikacja pomaga określić rodzaj i liczbę produktów do zamówienia w danym preorderze\n",
    "* Tabela do zamówienia składa się z informacji: rodzaj ubrania, numer katalogowy, liczba sztuk (z podziałem na rozmiary)\n",
    "* Użytkownik wgrywa katalog producenta (.pdf), a aplikacja generuje z niego dane o obecnej kolekcji (dataframe: rodzaj ubrania, numer katalogowy, przeznaczenie, kolor)\n",
    "* Użytkownik wgrywa historyczny raport (.xls), na podstawie którego aplikacja określa tendencje dla danych produktów\n",
    "* Użytkownik określa budżet na zamówienie\n",
    "* Aplikacja generuje raport z listą produktów do zamówienia na bieżący okres w danym budżecie\n",
    "\n",
    "W początkowych wersjach aplikacja skupi się na zamawianiu getrów firmy Adidas:\n",
    "\n",
    "<div style=\"text-align: center;\">\n",
    "  <img src=\"getrymilano.png\" width=\"700\" height=\"590\">\n",
    "</div>"
   ]
  },
  {
   "cell_type": "markdown",
   "metadata": {},
   "source": [
    "## Architektura\n",
    "\n",
    "#### Architektura aplikacji\n",
    "\n",
    "```plaintext\n",
    "[INPUT] ─────────► [KATALOG .pdf]\n",
    "                        │\n",
    "                        ▼\n",
    "             [Model klasyfikacji obrazów]\n",
    "                - Clarifai (ubranie + kolor + ID (OCR))\n",
    "                - PyMuPDF (zamiana PDF → obrazy)\n",
    "                        │\n",
    "                        ▼\n",
    "           [DataFrame: typ, kolor, ID, rozmiary]\n",
    "\n",
    "[INPUT] ─────────► [HISTORYCZNE RAPORTY .xls]\n",
    "                        │\n",
    "                        ▼\n",
    "            [Model regresji (np. PyCaret)]\n",
    "                - prognozy zapotrzebowania\n",
    "                        │\n",
    "                        ▼\n",
    "          [DataFrame: ID, trendy, popyt, sezon]\n",
    "\n",
    "[INPUT] ─────────► [BUDŻET użytkownika]\n",
    "\n",
    "                        ▼\n",
    "   [Algorytm optymalizacji doboru produktów]\n",
    "        - pulp\n",
    "        - wybiera najlepsze ID w budżecie\n",
    "                        │\n",
    "                        ▼\n",
    "        [Lista produktów do zamówienia]\n",
    "\n",
    "                        ▼\n",
    "     [Generowanie raportu]\n",
    "          - np. wykresy dla danych produktów, trendy\n",
    "                        │\n",
    "                        ▼\n",
    "[OUTPUT] ◄──────────── [Raport]\n"
   ]
  },
  {
   "cell_type": "markdown",
   "metadata": {},
   "source": [
    "## Plan / Taski\n",
    "* 1 - wgranie katalogu w .pdf + generowanie danych o produktach + wyświetlenie tabeli (na początek dla getrów), sprawdzenie - EDA (describe, czy model się nie pomylił itd.)\n",
    "* 2 - wgranie historycznego raportu + przygotowanie danych (EDA, preprocessing)\n",
    "* 3 - trenowanie modelu regresyjnego (dobór modelu, dobór hyperparameters)\n",
    "* 4 - użycie modelu do określenia liczby produktów do zakupu dla danego rodzaju (metryki, ocena modelu, ocena dla różnych hiperparametrów, wnioski)\n",
    "* 5 - wyświetlenie raportu + wykresy\n",
    "* 6 - uwzględnienie budżetu\n",
    "### Extras\n",
    "* 7 - Streamlit\n",
    "* 8 - Dane w chmurze\n",
    "* 9 - Porządkowanie danych w bazie danych\n",
    "* 10 - Automatyczne ETL"
   ]
  },
  {
   "cell_type": "markdown",
   "metadata": {},
   "source": [
    "## Zależności\n",
    "* `streamlit` - do budowy interfejsu użytkownika.\n",
    "* `dotenv` - do przechowywania klucza clarifai.\n",
    "* `pandas` - do pracy na dataframe.\n",
    "* `pdf2image` - do przetworzenia .pdf na .jpeg lub .png (zainstalować poppler for Windows)\n",
    "* `clarifai` - do klasyfikacji ubrań, detekcji, koloru i OCR.\n",
    "* `pycaret` - do budowy modelu ML.\n",
    "* `pulp` - do optymalizacji budżetu.\n",
    "* `seaborn` - do wizualizacji wyników."
   ]
  },
  {
   "cell_type": "markdown",
   "metadata": {},
   "source": [
    "## Instalacja\n",
    "\n",
    "- otwórz terminal  \n",
    "- uruchom `conda activate od_zera_do_ai`  \n",
    "- uruchom `conda config --append channels conda-forge`  \n",
    "- uruchom `conda install -y streamlit python-dotenv pandas pdf2image seaborn pulp`  \n",
    "- uruchom `pip install clarifai pycaret`  \n",
    "- jeśli używasz Windowsa, pobierz i wypakuj Poppler z `https://github.com/oschwartz10612/poppler-windows/releases`  \n",
    "- dodaj ścieżkę do folderu `poppler-xx\\Library\\bin` do zmiennej środowiskowej `PATH`  \n",
    "- jeśli używasz Maca, uruchom `brew install poppler` "
   ]
  }
 ],
 "metadata": {
  "kernelspec": {
   "display_name": "Python 3 (ipykernel)",
   "language": "python",
   "name": "python3"
  },
  "language_info": {
   "codemirror_mode": {
    "name": "ipython",
    "version": 3
   },
   "file_extension": ".py",
   "mimetype": "text/x-python",
   "name": "python",
   "nbconvert_exporter": "python",
   "pygments_lexer": "ipython3",
   "version": "3.11.9"
  }
 },
 "nbformat": 4,
 "nbformat_minor": 4
}
