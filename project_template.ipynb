{
 "cells": [
  {
   "cell_type": "markdown",
   "metadata": {},
   "source": [
    "# PreorderMe - pomocnik do generowania listy zamówień"
   ]
  },
  {
   "cell_type": "markdown",
   "metadata": {},
   "source": [
    "<img src=\"logo.png\" width=\"300\" height=\"450\">"
   ]
  },
  {
   "cell_type": "markdown",
   "metadata": {},
   "source": [
    "## Specyfikacja / Specs\n",
    "\n",
    "* Aplikacja pomaga określić rodzaj i liczbę produktów do zamówienia w danym preorderze\n",
    "* Tabela do zamówienia składa się z informacji: rodzaj ubrania, numer katalogowy, liczba sztuk (z podziałem na rozmiary)\n",
    "* Użytkownik wgrywa katalog producenta (.pdf), a aplikacja generuje z niego dane o obecnej kolekcji (dataframe: rodzaj ubrania, numer katalogowy, przeznaczenie, kolor)\n",
    "* Użytkownik wgrywa historyczny raport (.xls), na podstawie którego aplikacja określa tendencje dla danych produktów\n",
    "* Użytkownik określa budżet na zamówienie\n",
    "* Aplikacja generuje raport z listą produktów do zamówienia na bieżący okres w danym budżecie"
   ]
  },
  {
   "cell_type": "markdown",
   "metadata": {},
   "source": [
    "## Architektura\n",
    "\n",
    "#### Architektura aplikacji\n",
    "\n",
    "```plaintext\n",
    "[INPUT] ─────────► [KATALOG .pdf]\n",
    "                        │\n",
    "                        ▼\n",
    "             [Model klasyfikacji obrazów]\n",
    "                - Clarifai (ubranie + kolor + ID (OCR))\n",
    "                - PyMuPDF (zamiana PDF → obrazy)\n",
    "                        │\n",
    "                        ▼\n",
    "           [DataFrame: typ, kolor, ID, rozmiary (?)]\n",
    "\n",
    "[INPUT] ─────────► [HISTORYCZNE RAPORTY .xls]\n",
    "                        │\n",
    "                        ▼\n",
    "            [Model regresji (np. PyCaret)]\n",
    "                - prognozy zapotrzebowania\n",
    "                        │\n",
    "                        ▼\n",
    "          [DataFrame: ID, trendy, popyt, sezon]\n",
    "\n",
    "[INPUT] ─────────► [BUDŻET użytkownika]\n",
    "\n",
    "                        ▼\n",
    "   [Algorytm optymalizacji doboru produktów]\n",
    "        - pulp\n",
    "        - wybiera najlepsze ID w budżecie\n",
    "                        │\n",
    "                        ▼\n",
    "        [Lista produktów do zamówienia]\n",
    "\n",
    "                        ▼\n",
    "     [Generowanie raportu]\n",
    "          - np. wykresy dla danych produktów, trendy\n",
    "                        │\n",
    "                        ▼\n",
    "[OUTPUT] ◄──────────── [Raport]\n"
   ]
  },
  {
   "cell_type": "markdown",
   "metadata": {},
   "source": [
    "#### Uwagi\n",
    "* najpierw zrobić dla mnie tylko, bez interface'u (żeby nie generować dużej liczby zapytań, tylko pracować na tej tabelce, którą już raz wygenerowałam)\n",
    "* model klasyfikacji -> zapisać dane w tabelce i już później nie klasyfikować kilka razy\n",
    "* dane w df, zarówno ze zdj, jak i raportu - wytrenować model raz, zapisać i używać tylko na różnych danych\n",
    "* budżet sprawdzany za każdym razem algorytmem optymalizacyjnym\n",
    "* aplikacja już on top of that na samym końcu"
   ]
  },
  {
   "cell_type": "markdown",
   "metadata": {},
   "source": [
    "## Plan / Taski\n",
    "* 1 - wgranie katalogu w .pdf + generowanie danych o produktach + wyświetlenie tabeli (na początek dla getrów), sprawdzenie - EDA (describe, czy model się nie pomylił itd.)\n",
    "* 2 - wgranie historycznego raportu + przygotowanie danych (EDA, zliczenie produktów danej kategorii, usunięcie niepotrzebnych danych) - poczytać o wybieraniu atrybutów/feature selection (!) (np. correlation matrix - module 9, kodowanie rozmiarów, preprocessing, balansowanie, normalzacja)\n",
    "* 3 - trenowanie modelu regresyjnego (dobór modelu, dobór hyperparameters)\n",
    "* 4 - użycie modelu do określenia liczby produktów do zakupu dla danego rodzaju (metryki, ocena modelu, ocena dla różnych hiperparametrów, wnioski)\n",
    "* 5 - wyświetlenie raportu + wykresy (metryki modelu, wykresy ile zamówić, ile było zamówione itd.)\n",
    "* 6 - uwzględnienie budżetu (np. określenie które produkty są ważniejsze albo że wszystkie są na równi - co chcemy wziąć pod uwagę?)\n",
    "### Extras\n",
    "* 7 - Streamlit (wgrywamy jedną stronę .pdf, model regresji mamy)\n",
    "* 8 - Dane w chmurze (AWS, S3)\n",
    "* 9 - Porządkowanie danych w bazie danych (PostgreSQL)\n",
    "* 10 - Automatyczne ETL (AirByte)"
   ]
  },
  {
   "cell_type": "markdown",
   "metadata": {},
   "source": [
    "## Zależności\n",
    "* `streamlit` - do budowy interfejsu użytkownika.\n",
    "* `dotenv` - do przechowywania klucza clarifai.\n",
    "* `pandas` - do pracy na dataframe.\n",
    "* `pdf2image` - do przetworzenia .pdf na .jpeg lub .png (zainstalować poppler for Windows)\n",
    "* `clarifai` - do klasyfikacji ubrań, detekcji, koloru i OCR.\n",
    "* `pycaret` - do budowy modelu ML.\n",
    "* `pulp` - do optymalizacji budżetu(?)\n",
    "* `seaborn` - do wizualizacji wyników."
   ]
  }
 ],
 "metadata": {
  "kernelspec": {
   "display_name": "Python 3 (ipykernel)",
   "language": "python",
   "name": "python3"
  },
  "language_info": {
   "codemirror_mode": {
    "name": "ipython",
    "version": 3
   },
   "file_extension": ".py",
   "mimetype": "text/x-python",
   "name": "python",
   "nbconvert_exporter": "python",
   "pygments_lexer": "ipython3",
   "version": "3.11.9"
  }
 },
 "nbformat": 4,
 "nbformat_minor": 4
}
