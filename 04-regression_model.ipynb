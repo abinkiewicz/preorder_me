{
 "cells": [
  {
   "cell_type": "markdown",
   "id": "dd526f4f",
   "metadata": {},
   "source": [
    "# Regression model creating"
   ]
  },
  {
   "cell_type": "markdown",
   "id": "c12eea93",
   "metadata": {},
   "source": [
    "#### Required imports:"
   ]
  },
  {
   "cell_type": "code",
   "execution_count": 1,
   "id": "da4ec218",
   "metadata": {},
   "outputs": [],
   "source": [
    "import pandas as pd\n",
    "from sklearn.linear_model import LinearRegression\n",
    "from sklearn.metrics import mean_squared_error, r2_score\n",
    "from sklearn.model_selection import train_test_split\n",
    "import numpy as np\n",
    "import matplotlib.pyplot as plt\n",
    "import seaborn as sns"
   ]
  },
  {
   "cell_type": "markdown",
   "id": "18f1966d",
   "metadata": {},
   "source": [
    "#### Reading the file with reports\n",
    "- now I read the whole file at once: there are different sheets - combine them into one or reading them as separate and collecting to df?"
   ]
  },
  {
   "cell_type": "code",
   "execution_count": null,
   "id": "ab9c9b90",
   "metadata": {},
   "outputs": [],
   "source": [
    "try:\n",
    "    df = pd.read_excel(\"synth_sales_milanosocks_2022-2025.xlsx\")\n",
    "    print(df)\n",
    "except FileNotFoundError:\n",
    "    print(\"Error: File not found.\")\n",
    "except Exception as e:\n",
    "    print(f\"An error emerged: {e}\")\n"
   ]
  },
  {
   "cell_type": "markdown",
   "id": "01ce0d69",
   "metadata": {},
   "source": [
    "#### Separating features and labels\n",
    "- adjust columns names"
   ]
  },
  {
   "cell_type": "code",
   "execution_count": null,
   "id": "5b05c8b8",
   "metadata": {},
   "outputs": [],
   "source": [
    "X, y = df[['columns']].values, df['quantity'].values\n",
    "print('Features: ', X[:10], '\\nLabels:', y[:10], sep='\\n')"
   ]
  },
  {
   "cell_type": "markdown",
   "id": "0318d358",
   "metadata": {},
   "source": [
    "#### Spliting data into train- and test set\n",
    "- is 70-30% proper?"
   ]
  },
  {
   "cell_type": "code",
   "execution_count": null,
   "id": "903ce9d1",
   "metadata": {},
   "outputs": [],
   "source": [
    "X_train, X_test, y_train, y_test = train_test_split(X, y, test_size=0.30, random_state=0)\n",
    "print ('Training Set: %d rows\\nTest Set: %d rows' % (X_train.shape[0], X_test.shape[0]))"
   ]
  },
  {
   "cell_type": "markdown",
   "id": "ac50b27e",
   "metadata": {},
   "source": [
    "#### Fit the model on the training set"
   ]
  },
  {
   "cell_type": "code",
   "execution_count": null,
   "id": "23cf08c9",
   "metadata": {},
   "outputs": [],
   "source": [
    "model = LinearRegression().fit(X_train, y_train)\n",
    "print (model)\n"
   ]
  },
  {
   "cell_type": "markdown",
   "id": "f57677c6",
   "metadata": {},
   "source": [
    "#### Evaluation"
   ]
  },
  {
   "cell_type": "code",
   "execution_count": null,
   "id": "33d37fea",
   "metadata": {},
   "outputs": [],
   "source": [
    "predictions = model.predict(X_test)\n",
    "np.set_printoptions(suppress=True)\n",
    "print('Predicted labels: ', np.round(predictions)[:10])\n",
    "print('Actual labels   : ' ,y_test[:10])"
   ]
  },
  {
   "cell_type": "markdown",
   "id": "7ec9af2a",
   "metadata": {},
   "source": [
    "#### What kind of plots?"
   ]
  },
  {
   "cell_type": "code",
   "execution_count": null,
   "id": "e6797735",
   "metadata": {},
   "outputs": [],
   "source": []
  },
  {
   "cell_type": "markdown",
   "id": "20ab30cf",
   "metadata": {},
   "source": [
    "#### Metrics"
   ]
  },
  {
   "cell_type": "code",
   "execution_count": null,
   "id": "9390ff2d",
   "metadata": {},
   "outputs": [],
   "source": [
    "mse = mean_squared_error(y_test, predictions)\n",
    "print(\"MSE:\", mse)\n",
    "\n",
    "rmse = np.sqrt(mse)\n",
    "print(\"RMSE:\", rmse)\n",
    "\n",
    "r2 = r2_score(y_test, predictions)\n",
    "print(\"R2:\", r2)"
   ]
  }
 ],
 "metadata": {
  "kernelspec": {
   "display_name": "preorder_me",
   "language": "python",
   "name": "python3"
  },
  "language_info": {
   "codemirror_mode": {
    "name": "ipython",
    "version": 3
   },
   "file_extension": ".py",
   "mimetype": "text/x-python",
   "name": "python",
   "nbconvert_exporter": "python",
   "pygments_lexer": "ipython3",
   "version": "3.11.13"
  }
 },
 "nbformat": 4,
 "nbformat_minor": 5
}
